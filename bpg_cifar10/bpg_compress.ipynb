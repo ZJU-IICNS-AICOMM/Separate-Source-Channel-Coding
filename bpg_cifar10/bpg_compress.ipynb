{
 "cells": [
  {
   "cell_type": "code",
   "execution_count": 1,
   "metadata": {},
   "outputs": [],
   "source": [
    "import os\n",
    "import cv2\n",
    "import pickle\n",
    "import imageio\n",
    "import numpy as np\n",
    "def psnr(img1, img2):\n",
    "    mse = np.mean((img1 - img2) ** 2.0)\n",
    "    if mse == 0:\n",
    "        return 100.\n",
    "    PIXEL_MAX = 255.0\n",
    "    return 20 * np.log10(PIXEL_MAX / np.sqrt(mse))\n",
    "\n",
    "def unpickle(file):\n",
    "    with open(file, 'rb') as fo:\n",
    "        dict = pickle.load(fo, encoding='bytes')\n",
    "    return dict\n",
    "\n",
    "import torch"
   ]
  },
  {
   "cell_type": "code",
   "execution_count": 58,
   "metadata": {},
   "outputs": [
    {
     "ename": "KeyboardInterrupt",
     "evalue": "",
     "output_type": "error",
     "traceback": [
      "\u001b[1;31m---------------------------------------------------------------------------\u001b[0m",
      "\u001b[1;31mKeyboardInterrupt\u001b[0m                         Traceback (most recent call last)",
      "\u001b[1;32m<ipython-input-58-1134aef737a9>\u001b[0m in \u001b[0;36m<module>\u001b[1;34m\u001b[0m\n\u001b[0;32m      4\u001b[0m \u001b[0mtrain_labels\u001b[0m \u001b[1;33m=\u001b[0m \u001b[0mnp\u001b[0m\u001b[1;33m.\u001b[0m\u001b[0mempty\u001b[0m\u001b[1;33m(\u001b[0m\u001b[1;36m50000\u001b[0m\u001b[1;33m,\u001b[0m \u001b[0mdtype\u001b[0m\u001b[1;33m=\u001b[0m\u001b[0mnp\u001b[0m\u001b[1;33m.\u001b[0m\u001b[0muint8\u001b[0m\u001b[1;33m)\u001b[0m\u001b[1;33m\u001b[0m\u001b[1;33m\u001b[0m\u001b[0m\n\u001b[0;32m      5\u001b[0m \u001b[1;32mfor\u001b[0m \u001b[0mi\u001b[0m \u001b[1;32min\u001b[0m \u001b[0mrange\u001b[0m\u001b[1;33m(\u001b[0m\u001b[1;36m0\u001b[0m\u001b[1;33m,\u001b[0m \u001b[1;36m5\u001b[0m\u001b[1;33m)\u001b[0m\u001b[1;33m:\u001b[0m\u001b[1;33m\u001b[0m\u001b[1;33m\u001b[0m\u001b[0m\n\u001b[1;32m----> 6\u001b[1;33m     \u001b[0mdata_train\u001b[0m \u001b[1;33m=\u001b[0m \u001b[0munpickle\u001b[0m\u001b[1;33m(\u001b[0m\u001b[0mos\u001b[0m\u001b[1;33m.\u001b[0m\u001b[0mpath\u001b[0m\u001b[1;33m.\u001b[0m\u001b[0mjoin\u001b[0m\u001b[1;33m(\u001b[0m\u001b[0mpath\u001b[0m\u001b[1;33m,\u001b[0m \u001b[1;34m'data_batch_{}'\u001b[0m\u001b[1;33m.\u001b[0m\u001b[0mformat\u001b[0m\u001b[1;33m(\u001b[0m\u001b[0mi\u001b[0m\u001b[1;33m+\u001b[0m\u001b[1;36m1\u001b[0m\u001b[1;33m)\u001b[0m\u001b[1;33m)\u001b[0m\u001b[1;33m)\u001b[0m\u001b[1;33m\u001b[0m\u001b[1;33m\u001b[0m\u001b[0m\n\u001b[0m\u001b[0;32m      7\u001b[0m     \u001b[0mtrain_data\u001b[0m\u001b[1;33m[\u001b[0m\u001b[0mi\u001b[0m\u001b[1;33m*\u001b[0m\u001b[1;36m10000\u001b[0m\u001b[1;33m:\u001b[0m\u001b[1;33m(\u001b[0m\u001b[0mi\u001b[0m\u001b[1;33m+\u001b[0m\u001b[1;36m1\u001b[0m\u001b[1;33m)\u001b[0m\u001b[1;33m*\u001b[0m\u001b[1;36m10000\u001b[0m\u001b[1;33m]\u001b[0m \u001b[1;33m=\u001b[0m \u001b[0mdata_train\u001b[0m\u001b[1;33m[\u001b[0m\u001b[1;34mb'data'\u001b[0m\u001b[1;33m]\u001b[0m\u001b[1;33m.\u001b[0m\u001b[0mreshape\u001b[0m\u001b[1;33m(\u001b[0m\u001b[1;33m-\u001b[0m\u001b[1;36m1\u001b[0m\u001b[1;33m,\u001b[0m \u001b[1;36m3\u001b[0m\u001b[1;33m,\u001b[0m \u001b[1;36m32\u001b[0m\u001b[1;33m,\u001b[0m \u001b[1;36m32\u001b[0m\u001b[1;33m)\u001b[0m\u001b[1;33m.\u001b[0m\u001b[0mtranspose\u001b[0m\u001b[1;33m(\u001b[0m\u001b[1;33m(\u001b[0m\u001b[1;36m0\u001b[0m\u001b[1;33m,\u001b[0m \u001b[1;36m2\u001b[0m\u001b[1;33m,\u001b[0m \u001b[1;36m3\u001b[0m\u001b[1;33m,\u001b[0m \u001b[1;36m1\u001b[0m\u001b[1;33m)\u001b[0m\u001b[1;33m)\u001b[0m\u001b[1;33m\u001b[0m\u001b[1;33m\u001b[0m\u001b[0m\n\u001b[0;32m      8\u001b[0m \u001b[1;33m\u001b[0m\u001b[0m\n",
      "\u001b[1;32m<ipython-input-57-5fd7bc4bab09>\u001b[0m in \u001b[0;36munpickle\u001b[1;34m(file)\u001b[0m\n\u001b[0;32m     15\u001b[0m \u001b[1;32mdef\u001b[0m \u001b[0munpickle\u001b[0m\u001b[1;33m(\u001b[0m\u001b[0mfile\u001b[0m\u001b[1;33m)\u001b[0m\u001b[1;33m:\u001b[0m\u001b[1;33m\u001b[0m\u001b[1;33m\u001b[0m\u001b[0m\n\u001b[0;32m     16\u001b[0m     \u001b[1;32mwith\u001b[0m \u001b[0mopen\u001b[0m\u001b[1;33m(\u001b[0m\u001b[0mfile\u001b[0m\u001b[1;33m,\u001b[0m \u001b[1;34m'rb'\u001b[0m\u001b[1;33m)\u001b[0m \u001b[1;32mas\u001b[0m \u001b[0mfo\u001b[0m\u001b[1;33m:\u001b[0m\u001b[1;33m\u001b[0m\u001b[1;33m\u001b[0m\u001b[0m\n\u001b[1;32m---> 17\u001b[1;33m         \u001b[0mdict\u001b[0m \u001b[1;33m=\u001b[0m \u001b[0mpickle\u001b[0m\u001b[1;33m.\u001b[0m\u001b[0mload\u001b[0m\u001b[1;33m(\u001b[0m\u001b[0mfo\u001b[0m\u001b[1;33m,\u001b[0m \u001b[0mencoding\u001b[0m\u001b[1;33m=\u001b[0m\u001b[1;34m'bytes'\u001b[0m\u001b[1;33m)\u001b[0m\u001b[1;33m\u001b[0m\u001b[1;33m\u001b[0m\u001b[0m\n\u001b[0m\u001b[0;32m     18\u001b[0m     \u001b[1;32mreturn\u001b[0m \u001b[0mdict\u001b[0m\u001b[1;33m\u001b[0m\u001b[1;33m\u001b[0m\u001b[0m\n",
      "\u001b[1;31mKeyboardInterrupt\u001b[0m: "
     ]
    }
   ],
   "source": [
    "###  Load the data\n",
    "path = f'E:/PHD_DOC/RES1_SemanticCommunication5/Code/Benchmark/test_bpg_response/cifar-10-batches-py'\n",
    "train_data = np.empty((50000, 32, 32, 3), dtype=np.uint8)\n",
    "train_labels = np.empty(50000, dtype=np.uint8)\n",
    "for i in range(0, 5):\n",
    "    data_train = unpickle(os.path.join(path, 'data_batch_{}'.format(i+1)))\n",
    "    train_data[i*10000:(i+1)*10000] = data_train[b'data'].reshape(-1, 3, 32, 32).transpose((0, 2, 3, 1))\n",
    "\n",
    "data_test = unpickle(os.path.join(path, 'test_batch'))\n",
    "test_data = data_test[b'data'].reshape(-1, 3, 32, 32).transpose((0, 2, 3, 1))\n",
    "\n",
    "### Save the image to image list\n",
    "train_save_dir =  './cifar10_list/cifar10_train'\n",
    "test_save_dir = './cifar10_list/cifar10_test'\n",
    "if not os.path.exists(train_save_dir):\n",
    "    os.makedirs(train_save_dir)\n",
    "if not os.path.exists(test_save_dir):\n",
    "    os.makedirs(test_save_dir)\n",
    "    \n",
    "train_num = train_data.shape[0]\n",
    "for i in range(train_num):\n",
    "    path_name = f'{train_save_dir}/cifar-train-{i:05d}.png'\n",
    "    imageio.imwrite(path_name,train_data[i])\n",
    "    if i%500==0:\n",
    "        print('Finish %d train images ' % (i))\n",
    "    \n",
    "test_num = test_data.shape[0]\n",
    "for i in range(test_num):\n",
    "    path_name = f'{test_save_dir}/cifar-test-{i:05d}.png'\n",
    "    imageio.imwrite(path_name, test_data[i])\n",
    "    if i%500==0:\n",
    "        print('Finish %d test images ' % (i))"
   ]
  },
  {
   "cell_type": "code",
   "execution_count": 87,
   "metadata": {},
   "outputs": [
    {
     "name": "stdout",
     "output_type": "stream",
     "text": [
      "64.0\n",
      "71.0\n"
     ]
    }
   ],
   "source": [
    "code_rate = 1/2.\n",
    "M = 4\n",
    "num_pixel = 32*32*3\n",
    "cbr = 1/12.\n",
    "\n",
    "length = num_pixel * cbr * M * code_rate / 8\n",
    "print(length)\n",
    "print(length+7)"
   ]
  },
  {
   "cell_type": "code",
   "execution_count": 2,
   "metadata": {},
   "outputs": [
    {
     "name": "stdout",
     "output_type": "stream",
     "text": [
      "Average length:108.00\n",
      "Average PSNR:29.20\n",
      "Average length:141.05\n",
      "Average PSNR:26.85\n",
      "Average length:136.15\n",
      "Average PSNR:26.84\n",
      "Average length:134.25\n",
      "Average PSNR:26.94\n",
      "Average length:131.02\n",
      "Average PSNR:27.17\n",
      "Average length:131.59\n",
      "Average PSNR:27.17\n",
      "Average length:129.75\n",
      "Average PSNR:27.25\n",
      "Average length:131.08\n",
      "Average PSNR:27.18\n",
      "Average length:130.04\n",
      "Average PSNR:27.23\n",
      "Average length:129.87\n",
      "Average PSNR:27.25\n",
      "Average length:129.84\n",
      "Average PSNR:27.25469430130117\n"
     ]
    }
   ],
   "source": [
    "# Replace 'input_image.png' and 'compressed_image.bpg' with your file paths\n",
    "base_dir = 'E:/PHD_DOC/RES1_SemanticCommunication5/Code/Benchmark/test_bpg_response'\n",
    "test_comp_dir = './cifar10_list/cifar10_test_compress'\n",
    "if not os.path.exists(test_comp_dir):\n",
    "    os.makedirs(test_comp_dir)\n",
    "test_bits_dir = './cifar10_list/cifar10_bitstream_compress'\n",
    "if not os.path.exists(test_bits_dir):\n",
    "    os.makedirs(test_bits_dir)\n",
    "    \n",
    "aver_len = 0\n",
    "aver_psnr = 0\n",
    "test_exp_num = 200\n",
    "for i in range(test_exp_num):\n",
    "    # index = np.random.randint(1, 10000)\n",
    "    ######  编码方式修改为 cv2.imwrite('saved_image.jpg',image,[cv2.IMWRITE_JPEG_QUALITY,95])，类似下面 -q的值  以支持JPEG  JPEG2000等方式\n",
    "    index = i+10\n",
    "    input_image_path = f'{base_dir}/cifar10_list/cifar10_test/cifar-test-{index:05d}.png'\n",
    "    bit_stream_path = f'{base_dir}/cifar10_list/cifar10_bitstream_compress/cifar-test-{index:05d}.txt'\n",
    "    \n",
    "    # Encode the input image to BPG QP 0~50\n",
    "    encode_command = f'{base_dir}/bpg_lib/bpgenc -e x265 -q 39 -f 444 -o {bit_stream_path}  {input_image_path}'\n",
    "    os.system(encode_command)\n",
    "\n",
    "    # Decode the BPG image back to PNG\n",
    "    decoded_image_path = f'{base_dir}/cifar10_list/cifar10_test_compress/cifar-test-compress-{index:05d}.png'\n",
    "    decode_command = f'{base_dir}/bpg_lib/bpgdec -o {decoded_image_path} {bit_stream_path}'\n",
    "    os.system(decode_command)\n",
    "\n",
    "    # 打开一个文件（如果文件不存在，将创建一个新文件）\n",
    "    file_path = bit_stream_path\n",
    "    file = open(file_path, \"rb\")  # 使用 \"r\" 模式表示只读模式  读取文件的内容\n",
    "    file_contents = file.read()\n",
    "    # print(((file_contents[0:7])))\n",
    "    aver_len = aver_len + len(file_contents)\n",
    "    file.close()\n",
    "    \n",
    "    img1 = cv2.imread(input_image_path)\n",
    "    img2 = cv2.imread(decoded_image_path)\n",
    "    # print(psnr(img1 + 0., img2 + 0.))\n",
    "    aver_psnr = aver_psnr + psnr(img1 + 0., img2 + 0.)\n",
    "    # print(aver_psnr)\n",
    "    if i % 20==0:\n",
    "        print('Average length:{:.2f}'.format(aver_len/(i+1)))\n",
    "        print('Average PSNR:{:.2f}'.format(aver_psnr/(i+1)))\n",
    "print('Average length:{}'.format(aver_len/test_exp_num))\n",
    "print('Average PSNR:{}'.format(aver_psnr/test_exp_num ))"
   ]
  },
  {
   "cell_type": "code",
   "execution_count": null,
   "metadata": {},
   "outputs": [],
   "source": [
    "for snr in range(20):\n",
    "    SNRdB = snr  #dB\n",
    "    SNR = 10**(SNRdB/10.)\n",
    "    C = np.log2(SNR+1)\n",
    "    CBR = 1./16\n",
    "    L1 = 512*768*3 * CBR \n",
    "    length = L1 * C / 8.\n",
    "    print('SNR is %.2f, C is %.2f bits, length is %.2f' %(SNRdB, C, length))\n",
    "\n",
    "for ratio in [1/12., 1/6., 1/4., 1/3., 1/2.]:\n",
    "    print(32*32*3. * ratio * 4. *2./3. /8.)"
   ]
  },
  {
   "cell_type": "code",
   "execution_count": 9,
   "metadata": {},
   "outputs": [
    {
     "name": "stdout",
     "output_type": "stream",
     "text": [
      "[26.47240806 26.47240806 26.47240806 26.47240806 26.47240806 26.47240806\n",
      " 26.47240806 26.47240806 26.47240806 26.47240806]\n",
      "[27.30039959 26.95220403 26.85053881 26.82690187 26.81743971 26.80991578\n",
      " 26.80779592 26.80541279 26.80541279 26.80541279]\n",
      "[27.09574641 26.69617396 26.56815263 26.54482211 26.529822   26.51307145\n",
      " 26.50947847 26.50797668 26.50825784 26.50797668]\n",
      "[27.1327256  26.69088092 26.56286672 26.5297047  26.51260356 26.50134499\n",
      " 26.49893003 26.49792063 26.49810961 26.49792063]\n",
      "[27.20968453 26.77772546 26.65355459 26.62660379 26.61216971 26.60369104\n",
      " 26.60187237 26.6011122  26.60125452 26.6011122 ]\n",
      "tensor([27.19, 26.77, 26.63, 26.60, 26.57, 26.57, 26.57, 26.57, 26.57, 26.57],\n",
      "       dtype=torch.float64)\n"
     ]
    }
   ],
   "source": [
    "####    Multi-hop  scenario\n",
    "aver_len = 0\n",
    "aver_psnr = 0\n",
    "tx_time = 10\n",
    "aver_len_group = np.zeros(tx_time) \n",
    "test_exp_num = 100\n",
    "for i in range(test_exp_num):\n",
    "    # index = np.random.randint(1, 10000)\n",
    "    index = i+1000\n",
    "    input_image_path = f'{base_dir}/cifar10_list/cifar10_test/cifar-test-{index:05d}.png'\n",
    "    bit_stream_path = f'{base_dir}/cifar10_list/cifar10_bitstream_compress/cifar-test-{index:05d}.txt'\n",
    "    \n",
    "    # Encode the input image to BPG QP 0~50\n",
    "    encode_command = f'{base_dir}/bpg_lib/bpgenc -e x265 -q 39 -f 444 -o {bit_stream_path}  {input_image_path}'\n",
    "    os.system(encode_command)\n",
    "\n",
    "    # Decode the BPG image back to PNG\n",
    "    for n in range(tx_time):\n",
    "        decoded_image_path = f'{base_dir}/cifar10_list/cifar10_test_compress/cifar-test-compress-{index:05d}.png'\n",
    "        decode_command = f'{base_dir}/bpg_lib/bpgdec -o {decoded_image_path} {bit_stream_path}'\n",
    "        os.system(decode_command)\n",
    "\n",
    "        # 打开一个文件（如果文件不存在，将创建一个新文件）\n",
    "        file_path = bit_stream_path\n",
    "        file = open(file_path, \"rb\")  # 使用 \"r\" 模式表示只读模式  读取文件的内容\n",
    "        file_contents = file.read()\n",
    "        # print(len(file_contents))\n",
    "        \n",
    "        file.close()\n",
    "        encode_command = f'{base_dir}/bpg_lib/bpgenc -e x265 -q 39 -f 444 -o {bit_stream_path}  {decoded_image_path}'\n",
    "        os.system(encode_command)\n",
    "        img1 = cv2.imread(input_image_path)\n",
    "        img2 = cv2.imread(decoded_image_path)\n",
    "        # print(psnr(img1 + 0., img2 + 0.))\n",
    "        aver_len = aver_len + len(file_contents)\n",
    "        # aver_psnr = aver_psnr + psnr(img1 + 0., img2 + 0.)\n",
    "        aver_len_group[n] += psnr(img1 + 0., img2 + 0.)\n",
    "    # print(aver_psnr)\n",
    "    aver_psnr = aver_psnr + psnr(img1 + 0., img2 + 0.)\n",
    "\n",
    "    if i % 20==0:\n",
    "        print((aver_len_group/(i+1)))\n",
    "torch.set_printoptions(precision=2)\n",
    "print(torch.tensor(aver_len_group/test_exp_num))\n"
   ]
  }
 ],
 "metadata": {
  "kernelspec": {
   "display_name": "base",
   "language": "python",
   "name": "python3"
  },
  "language_info": {
   "codemirror_mode": {
    "name": "ipython",
    "version": 3
   },
   "file_extension": ".py",
   "mimetype": "text/x-python",
   "name": "python",
   "nbconvert_exporter": "python",
   "pygments_lexer": "ipython3",
   "version": "3.8.8"
  },
  "orig_nbformat": 4
 },
 "nbformat": 4,
 "nbformat_minor": 2
}
